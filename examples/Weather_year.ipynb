{
 "cells": [
  {
   "cell_type": "markdown",
   "metadata": {},
   "source": [
    "# pybalmorel for Multi Weather Year Power System Studies\n",
    "This notebook provide an example on how to use pybalmorel for creating Balmorel scenarios for various weather years (VRE, demand). \n",
    "\n",
    "- VRE timeseries come from [CorRES](https://corres.windenergy.dtu.dk/) model\n",
    "\n",
    "\n",
    "- Demand timeseries come from ..\n"
   ]
  },
  {
   "cell_type": "code",
   "execution_count": 8,
   "metadata": {
    "vscode": {
     "languageId": "julia"
    }
   },
   "outputs": [],
   "source": [
    "### 0.1 Use development scripts or the package installed from pip\n",
    "use_development = True\n",
    "if use_development:\n",
    "    import sys\n",
    "    import os\n",
    "    # Adjust the sys.path to include the project root directory\n",
    "    project_root = os.path.abspath(os.path.join(os.path.dirname(\"__file__\"), '..'))\n",
    "    if project_root not in sys.path:\n",
    "        sys.path.insert(0, project_root)\n",
    "    from src.pybalmorel import WEATHERYEAR\n",
    "else:\n",
    "    from pybalmorel import WEATHERYEAR"
   ]
  },
  {
   "cell_type": "code",
   "execution_count": 3,
   "metadata": {},
   "outputs": [],
   "source": [
    "# Initiate WEATHERYEAR class\n",
    "mly = WEATHERYEAR(year=2013,\n",
    "            config_fn=\"files/mutli_year_config.yml\",\n",
    "            output_folder=\"files/multiweather_year_reuslts/\")"
   ]
  },
  {
   "cell_type": "markdown",
   "metadata": {},
   "source": [
    "### Creating VRE timeseries data (CorRES) and saving in both excel (for easier review) and .inc (direct Balmorel inputs) formats\n",
    "\n",
    "The following folders should be generated:\n",
    "- Existing_ERA5_GWA2 (xlsx files for existing installations)\n",
    "- Future_Offshore_bottom_fixed (xlsx files for future offshore bottom fixed installations)\n",
    "- Future_Onshore (xlsx files for future onshore installations)\n",
    "- PV_Rooftop (xlsx files for future pv rooftop installations)\n",
    "- PV_Utility_scale_no_tracking (xlsx files for future pv utility scale with no tracking installations)\n",
    "- PV_Utility_scale_tracking (xlsx files for pv utility scale with 1-axis tracking installations))\n",
    "- to_balmorel (inc files for direct iput to balmorel"
   ]
  },
  {
   "cell_type": "code",
   "execution_count": 4,
   "metadata": {},
   "outputs": [
    {
     "name": "stdout",
     "output_type": "stream",
     "text": [
      "VRE timeseries created\n"
     ]
    }
   ],
   "source": [
    "mly.get_vre_data()\n",
    "print(\"VRE timeseries created\")"
   ]
  },
  {
   "cell_type": "markdown",
   "metadata": {},
   "source": [
    "### Creating other VRE related .inc files (needed for a complete Balmorel scenario)\n",
    "\n",
    "The following files should be generated:\n",
    "- AAA_renewable.inc\n",
    "- SUBTECHGROUPKPOT.inc\n",
    "- ALLOWEDINV.inc\n",
    "- ANNUITYCG_renewables.inc\n",
    "- CCCRRRAAA_renewable.inc\n",
    "- GGG_renewable.inc\n",
    "- RRRAAA_renewable.inc\n",
    "- INVDATA_renewable.inc\n",
    "- INVDATASET_renewables.inc\n",
    "- GKFX_renewable.inc\n",
    "- DISCOST_H_renewable.inc\n",
    "- GDATA_renewable.inc\n",
    "- G_renewable.inc\n",
    "\n",
    "\n",
    "\n",
    "\n"
   ]
  },
  {
   "cell_type": "code",
   "execution_count": 5,
   "metadata": {},
   "outputs": [],
   "source": [
    "mly.get_vre_related_files()"
   ]
  },
  {
   "cell_type": "markdown",
   "metadata": {},
   "source": [
    "### Creating demand inc files \n",
    "\n",
    "The following timeseries should be generated:\n",
    "- DE_VAR_T_OTHER.inc\n",
    "- DE_VAR_T_RESE.inc\n",
    "- DH_VAR_T_RESH.inc\n",
    "- DH_VAR_T_RESIDENTIAL.inc\n",
    "- DH_VAR_T_TERTIARY.inc\n",
    "\n",
    "additionaly the following files needed for a complete Balmorel scenario will be created:\n",
    "- DH_RESH.inc\n",
    "- DH_RESIDENTIAL.inc\n",
    "- DH_TERTIARY.inc"
   ]
  },
  {
   "cell_type": "code",
   "execution_count": 6,
   "metadata": {},
   "outputs": [],
   "source": [
    "mly.get_demand_data()"
   ]
  }
 ],
 "metadata": {
  "kernelspec": {
   "display_name": "BTC_new",
   "language": "python",
   "name": "btc_new"
  },
  "language_info": {
   "codemirror_mode": {
    "name": "ipython",
    "version": 3
   },
   "file_extension": ".py",
   "mimetype": "text/x-python",
   "name": "python",
   "nbconvert_exporter": "python",
   "pygments_lexer": "ipython3",
   "version": "3.10.16"
  }
 },
 "nbformat": 4,
 "nbformat_minor": 4
}
