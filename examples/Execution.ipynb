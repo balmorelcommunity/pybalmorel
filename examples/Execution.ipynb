{
 "cells": [
  {
   "cell_type": "markdown",
   "metadata": {},
   "source": [
    "# pybalmorel for Executing Scenarios\n",
    "This notebook provide examples on how to use pybalmorel for pre-processing, post-processing and for executing Balmorel scenarios. Check the following pages:\n",
    "- [Home](../README.md)\n",
    "- [Pre-Processing](PreProcessing.ipynb)\n",
    "- [Post-Processing](PostProcessing.ipynb)"
   ]
  },
  {
   "cell_type": "code",
   "execution_count": 1,
   "metadata": {},
   "outputs": [],
   "source": [
    "### 0.1 Use development scripts or the package installed from pip\n",
    "use_development = True\n",
    "if use_development:\n",
    "    import sys\n",
    "    import os\n",
    "    # Adjust the sys.path to include the project root directory\n",
    "    project_root = os.path.abspath(os.path.join(os.path.dirname(\"__file__\"), '..'))\n",
    "    if project_root not in sys.path:\n",
    "        sys.path.insert(0, project_root)\n",
    "    from src.pybalmorel import Balmorel\n",
    "    from src.pybalmorel.utils import symbol_to_df\n",
    "    import pybalmorel # needed for copying GAMS reader files for the .load_incfiles function\n",
    "else:\n",
    "    from pybalmorel import Balmorel\n",
    "    from pybalmorel.utils import symbol_to_df"
   ]
  },
  {
   "cell_type": "markdown",
   "metadata": {},
   "source": [
    "### Balmorel Class\n",
    "\n",
    "The Balmorel class can be used to recognise scenarios, load .inc files into python or run scenarios and easily collect results "
   ]
  },
  {
   "cell_type": "code",
   "execution_count": null,
   "metadata": {},
   "outputs": [],
   "source": [
    "# Initiate Model Class\n",
    "model = Balmorel('path/to/model/folder')\n",
    "print(model.scenarios) # Print recognised scenarios"
   ]
  },
  {
   "cell_type": "code",
   "execution_count": 13,
   "metadata": {},
   "outputs": [
    {
     "name": "stdout",
     "output_type": "stream",
     "text": [
      "         Y    R     DEUSER     Value_MWh\n",
      "0     2016  DK1       RESE  5.315044e+06\n",
      "1     2016  DK1        PII  7.533239e+05\n",
      "2     2016  DK1      OTHER  1.096689e+07\n",
      "3     2016  DK2       RESE  3.647737e+06\n",
      "4     2016  DK2        PII  5.170094e+05\n",
      "...    ...  ...        ...           ...\n",
      "6824  2050   MT  TRANS_BUS  8.520674e+05\n",
      "6825  2050   CY       RESE  8.185034e+05\n",
      "6826  2050   CY        PII  1.378676e+06\n",
      "6827  2050   CY      OTHER  1.402362e+06\n",
      "6828  2050   CY  TRANS_BUS  2.503435e+06\n",
      "\n",
      "[6829 rows x 4 columns]\n"
     ]
    }
   ],
   "source": [
    "# Load .inc-files to Python\n",
    "# This function executes Balmorel up until the model is reduced and run, i.e. only reading inc-files \n",
    "# Note that if your version differs from master branch, commit id 18e21979, you may need to create your own read_files\n",
    "# The read_files were created using the Balmorel.gms and Balmorelbb4.inc-files, deleting everything that reduces dataset or runs the model\n",
    "model.load_incfiles('base')\n",
    "print(symbol_to_df(model.input_data['base'], 'DE', ['Y', 'R', 'DEUSER', 'Value_MWh']))\n"
   ]
  },
  {
   "cell_type": "code",
   "execution_count": null,
   "metadata": {},
   "outputs": [],
   "source": [
    "# Run Model\n",
    "model.run('base', {'some_cmd_line_option' : 'arg'})\n",
    "\n",
    "# Collect MainResults into model.results\n",
    "model.collect_results()\n",
    "model.results.get_result('OBJ_YCR') # Get objective function"
   ]
  }
 ],
 "metadata": {
  "kernelspec": {
   "display_name": "Python 3 (ipykernel)",
   "language": "python",
   "name": "python3"
  },
  "language_info": {
   "codemirror_mode": {
    "name": "ipython",
    "version": 3
   },
   "file_extension": ".py",
   "mimetype": "text/x-python",
   "name": "python",
   "nbconvert_exporter": "python",
   "pygments_lexer": "ipython3",
   "version": "3.9.11"
  }
 },
 "nbformat": 4,
 "nbformat_minor": 2
}
